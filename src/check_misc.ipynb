{
 "cells": [
  {
   "cell_type": "code",
   "execution_count": 4,
   "metadata": {},
   "outputs": [],
   "source": [
    "from Bio.PDB import *\n",
    "import numpy\n",
    "import mdtraj as md"
   ]
  },
  {
   "cell_type": "code",
   "execution_count": 11,
   "metadata": {},
   "outputs": [],
   "source": [
    "parser = PDBParser()\n",
    "fm7 = parser.get_structure('3fm7', '3fm7.pdb')\n",
    "ygt = parser.get_structure('1ygt', '1ygt.pdb')\n",
    "ch = fm7.get_chains()\n",
    "sel = Dice.ChainSelector('A', 1, 10)"
   ]
  },
  {
   "cell_type": "code",
   "execution_count": 52,
   "metadata": {},
   "outputs": [],
   "source": [
    "trj_3fm7 = md.load('3fm7.pdb')\n",
    "top_3fm7 = trj_3fm7.topology\n",
    "\n",
    "trj_1ygt = md.load('1ygt.pdb')\n",
    "top_1ygt = trj_1ygt.topology"
   ]
  },
  {
   "cell_type": "code",
   "execution_count": 53,
   "metadata": {},
   "outputs": [
    {
     "name": "stdout",
     "output_type": "stream",
     "text": [
      "QFIVDDVSKTIKEAIETTIGGNAYQHDKVNNWTGQVVENCLTVLTKEQKPYKYIVTAMIMQKNGAGLHTASSCYWNNDTDGSCTVRWENKTMYCIVSVFGLAV"
     ]
    }
   ],
   "source": [
    "for res in top_3fm7.chain(0).residues:\n",
    "    print(res.code, end='')"
   ]
  },
  {
   "cell_type": "code",
   "execution_count": 54,
   "metadata": {},
   "outputs": [
    {
     "name": "stdout",
     "output_type": "stream",
     "text": [
      "SQFIVDDVSKTIKEAIETTIGGNAYQHDKVNNWTGQVVENCLTVLTKEQKPYKYIVTAMIMQKNGAGLHTASSCYWNNDTDGSCTVRWENKTMYCIVSVFGLAV"
     ]
    }
   ],
   "source": [
    "for res in top_1ygt.chain(0).residues:\n",
    "    print(res.code, end='')"
   ]
  },
  {
   "cell_type": "code",
   "execution_count": 49,
   "metadata": {},
   "outputs": [
    {
     "data": {
      "text/plain": [
       "'Q'"
      ]
     },
     "execution_count": 49,
     "metadata": {},
     "output_type": "execute_result"
    }
   ],
   "source": []
  },
  {
   "cell_type": "markdown",
   "metadata": {},
   "source": [
    "### 3FM7 cavity"
   ]
  },
  {
   "cell_type": "code",
   "execution_count": 6,
   "metadata": {},
   "outputs": [],
   "source": [
    "trj_3fm7 = md.load('/home/pbarletta/labo/20/dynein/run/3fm7/cavidad/top_3fm7.pdb')\n",
    "top_3fm7 = trj_3fm7.topology"
   ]
  },
  {
   "cell_type": "markdown",
   "metadata": {},
   "source": [
    "##### ACB"
   ]
  },
  {
   "cell_type": "code",
   "execution_count": 13,
   "metadata": {},
   "outputs": [
    {
     "name": "stdout",
     "output_type": "stream",
     "text": [
      "GLY65\n",
      "THR78\n",
      "ASP79\n",
      "TRP86\n",
      "TYR92\n",
      "HIS128\n",
      "ASN133\n",
      "THR144\n"
     ]
    }
   ],
   "source": [
    "for i in [65, 78, 79, 86, 92, 128, 133, 144]:\n",
    "    print(list(top_3fm7.residues)[i-1])"
   ]
  },
  {
   "cell_type": "markdown",
   "metadata": {},
   "source": [
    "##### ADB"
   ]
  },
  {
   "cell_type": "code",
   "execution_count": 18,
   "metadata": {},
   "outputs": [
    {
     "name": "stdout",
     "output_type": "stream",
     "text": [
      "GLY168\n",
      "THR181\n",
      "ASP182\n",
      "TRP189\n",
      "TYR195\n",
      "HIS25\n",
      "ASN30\n",
      "THR41\n"
     ]
    }
   ],
   "source": [
    "for i in [168, 181, 182, 189, 195, 25, 30, 41]:\n",
    "    print(list(top_3fm7.residues)[i-1])"
   ]
  },
  {
   "cell_type": "markdown",
   "metadata": {},
   "source": [
    "##### ECF"
   ]
  },
  {
   "cell_type": "code",
   "execution_count": 27,
   "metadata": {},
   "outputs": [
    {
     "name": "stdout",
     "output_type": "stream",
     "text": [
      "ILE263\n",
      "ASN265\n",
      "ASP267\n",
      "SER319\n",
      "GLU324\n",
      "THR325\n",
      "ASP377\n",
      "PHE386\n",
      "LYS388\n"
     ]
    }
   ],
   "source": [
    "for i in [263, 265, 267, 319, 324, 325, 377, 386, 388]:\n",
    "    print(list(top_3fm7.residues)[i-1])"
   ]
  },
  {
   "cell_type": "markdown",
   "metadata": {},
   "source": [
    "##### EDF"
   ]
  },
  {
   "cell_type": "code",
   "execution_count": 30,
   "metadata": {},
   "outputs": [
    {
     "name": "stdout",
     "output_type": "stream",
     "text": [
      "ILE348\n",
      "ASN350\n",
      "ASP352\n",
      "SER404\n",
      "GLU409\n",
      "THR410\n",
      "ASP292\n",
      "PHE301\n",
      "LYS303\n"
     ]
    }
   ],
   "source": [
    "for i in [348, 350, 352, 404, 409, 410, 292, 301, 303]:\n",
    "    print(list(top_3fm7.residues)[i-1])"
   ]
  }
 ],
 "metadata": {
  "kernelspec": {
   "display_name": "Python 3",
   "language": "python",
   "name": "python3"
  },
  "language_info": {
   "codemirror_mode": {
    "name": "ipython",
    "version": 3
   },
   "file_extension": ".py",
   "mimetype": "text/x-python",
   "name": "python",
   "nbconvert_exporter": "python",
   "pygments_lexer": "ipython3",
   "version": "3.6.7"
  }
 },
 "nbformat": 4,
 "nbformat_minor": 2
}
