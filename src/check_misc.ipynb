{
 "cells": [
  {
   "cell_type": "code",
   "execution_count": 34,
   "metadata": {},
   "outputs": [],
   "source": [
    "from Bio.PDB import *\n",
    "import numpy\n",
    "import mdtraj as md"
   ]
  },
  {
   "cell_type": "code",
   "execution_count": 11,
   "metadata": {},
   "outputs": [],
   "source": [
    "parser = PDBParser()\n",
    "fm7 = parser.get_structure('3fm7', '3fm7.pdb')\n",
    "ygt = parser.get_structure('1ygt', '1ygt.pdb')\n",
    "ch = fm7.get_chains()\n",
    "sel = Dice.ChainSelector('A', 1, 10)"
   ]
  },
  {
   "cell_type": "code",
   "execution_count": 52,
   "metadata": {},
   "outputs": [],
   "source": [
    "trj_3fm7 = md.load('3fm7.pdb')\n",
    "top_3fm7 = trj_3fm7.topology\n",
    "\n",
    "trj_1ygt = md.load('1ygt.pdb')\n",
    "top_1ygt = trj_1ygt.topology"
   ]
  },
  {
   "cell_type": "code",
   "execution_count": 53,
   "metadata": {},
   "outputs": [
    {
     "name": "stdout",
     "output_type": "stream",
     "text": [
      "QFIVDDVSKTIKEAIETTIGGNAYQHDKVNNWTGQVVENCLTVLTKEQKPYKYIVTAMIMQKNGAGLHTASSCYWNNDTDGSCTVRWENKTMYCIVSVFGLAV"
     ]
    }
   ],
   "source": [
    "for res in top_3fm7.chain(0).residues:\n",
    "    print(res.code, end='')"
   ]
  },
  {
   "cell_type": "code",
   "execution_count": 54,
   "metadata": {},
   "outputs": [
    {
     "name": "stdout",
     "output_type": "stream",
     "text": [
      "SQFIVDDVSKTIKEAIETTIGGNAYQHDKVNNWTGQVVENCLTVLTKEQKPYKYIVTAMIMQKNGAGLHTASSCYWNNDTDGSCTVRWENKTMYCIVSVFGLAV"
     ]
    }
   ],
   "source": [
    "for res in top_1ygt.chain(0).residues:\n",
    "    print(res.code, end='')"
   ]
  },
  {
   "cell_type": "code",
   "execution_count": 49,
   "metadata": {},
   "outputs": [
    {
     "data": {
      "text/plain": [
       "'Q'"
      ]
     },
     "execution_count": 49,
     "metadata": {},
     "output_type": "execute_result"
    }
   ],
   "source": []
  },
  {
   "cell_type": "code",
   "execution_count": 51,
   "metadata": {},
   "outputs": [
    {
     "name": "stdout",
     "output_type": "stream",
     "text": [
      "QFIVDDVSKTIKEAIETTIGGNAYQHDKVNNWTGQVVENCLTVLTKEQKPYKYIVTAMIMQKNGAGLHTASSCYWNNDTDGSCTVRWENKTMYCIVSVFGLAV"
     ]
    }
   ],
   "source": []
  },
  {
   "cell_type": "code",
   "execution_count": null,
   "metadata": {},
   "outputs": [],
   "source": []
  }
 ],
 "metadata": {
  "kernelspec": {
   "display_name": "Python 3",
   "language": "python",
   "name": "python3"
  },
  "language_info": {
   "codemirror_mode": {
    "name": "ipython",
    "version": 3
   },
   "file_extension": ".py",
   "mimetype": "text/x-python",
   "name": "python",
   "nbconvert_exporter": "python",
   "pygments_lexer": "ipython3",
   "version": "3.6.7"
  }
 },
 "nbformat": 4,
 "nbformat_minor": 2
}
