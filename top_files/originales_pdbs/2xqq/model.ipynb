{
 "cells": [
  {
   "cell_type": "code",
   "execution_count": 1,
   "metadata": {},
   "outputs": [],
   "source": [
    "# from modeller import *\n",
    "# from modeller.automodel import *\n",
    "# from modeller.scripts import *\n",
    "from modeller import environ, model, selection\n",
    "from modeller.scripts import complete_pdb\n",
    "import numpy as np"
   ]
  },
  {
   "cell_type": "markdown",
   "metadata": {},
   "source": [
    "### Genero la secuencia a partir de la estructura"
   ]
  },
  {
   "cell_type": "code",
   "execution_count": 3,
   "metadata": {},
   "outputs": [
    {
     "name": "stdout",
     "output_type": "stream",
     "text": [
      "read_to_681_> topology.submodel read from topology file:        3\n"
     ]
    }
   ],
   "source": [
    "e = environ()\n",
    "e.libs.topology.read(file=\"/home/pbarletta/anaconda3/lib/modeller-9.24/modlib/top_heav.lib\")\n",
    "e.libs.parameters.read(file=\"/home/pbarletta/anaconda3/lib/modeller-9.24/modlib/par.lib\")\n",
    "\n",
    "mdl = complete_pdb(e, \"nofill_2xqq.pdb\")\n",
    "mdl.write(file = \"/home/pbarletta/labo/20/dynein/top_files/originales_pdbs/2xqq/nrot_2xqq.pdb\")"
   ]
  },
  {
   "cell_type": "code",
   "execution_count": null,
   "metadata": {},
   "outputs": [],
   "source": []
  }
 ],
 "metadata": {
  "kernelspec": {
   "display_name": "Python 3",
   "language": "python",
   "name": "python3"
  },
  "language_info": {
   "codemirror_mode": {
    "name": "ipython",
    "version": 3
   },
   "file_extension": ".py",
   "mimetype": "text/x-python",
   "name": "python",
   "nbconvert_exporter": "python",
   "pygments_lexer": "ipython3",
   "version": "3.8.3"
  }
 },
 "nbformat": 4,
 "nbformat_minor": 4
}
